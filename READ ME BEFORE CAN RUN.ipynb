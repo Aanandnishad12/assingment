{
  "nbformat": 4,
  "nbformat_minor": 0,
  "metadata": {
    "colab": {
      "name": "Untitled6.ipynb",
      "provenance": [],
      "authorship_tag": "ABX9TyPWdPjv3Dpjd1gb6nBYuQqV",
      "include_colab_link": true
    },
    "kernelspec": {
      "name": "python3",
      "display_name": "Python 3"
    },
    "language_info": {
      "name": "python"
    }
  },
  "cells": [
    {
      "cell_type": "markdown",
      "metadata": {
        "id": "view-in-github",
        "colab_type": "text"
      },
      "source": [
        "<a href=\"https://colab.research.google.com/github/Aanandnishad12/assingment/blob/main/READ%20ME%20BEFORE%20CAN%20RUN.ipynb\" target=\"_parent\"><img src=\"https://colab.research.google.com/assets/colab-badge.svg\" alt=\"Open In Colab\"/></a>"
      ]
    },
    {
      "cell_type": "code",
      "execution_count": null,
      "metadata": {
        "id": "Ew71lPcBOfWm"
      },
      "outputs": [],
      "source": [
        "all the bonus task are complited Maintask Bonus 1,Maintask Bonus 2,Bonus task captcha clear\n",
        "\n",
        "HOW TO RUN:\n",
        "if you are running the with the google colab link no requirement wlse the below requirement\n",
        "\n",
        "\n",
        "\n",
        "\n",
        "REQUIRMENT\n",
        "\n",
        "1-please install selenium and Beautifull soup \n",
        "2- please change the directory and put your directory where we are opening  with pandas read_csv.\n",
        "3- please  change the directory  to your path select your path of the crome driver.\n",
        "4- please please install pytessract and openCV or cv2 in order to run the captcha task\n",
        "\n",
        "________________________________________WARNING______________________________________________________________________________\n",
        "pytessarct is open source ocr  it accuracy is very less \n",
        "so  many times it will not work but the it will work with paid ocr like GOOGLE OCR which  has high accuracy\n",
        "\n",
        "\n",
        "\n",
        "Main Task\n",
        "1 - In the main task the apporch for is visit the site with selenium\n",
        "2 - Now take the content of source page and parser it in soup with lxml\n",
        "3 - later finded the tags and narrowed down the element with find and find all using beautifull\n",
        "4 - still couldnt locate the very well hence used a little bit of regex \n",
        "\n",
        "\n",
        "\n",
        "Main Task bonus Task 2 Mysql db\n",
        "Approch is same as above:\n",
        "1 - created the db table we will still get the output as json but datawill be stored the data base\n",
        "\n",
        "\n",
        "\n",
        "Bonus Task of clearing captcha:\n",
        "1 - since couldnt use API's to clear it teh captcha\n",
        "2 - i have used aprroch of downloading the image and convert that in to text:\n",
        "3 - Now sending that key to the captcha and clicking on the key using selenium\n",
        "________________________________________WARNING______________________________________________________________________________\n",
        "pytessarct is open source ocr  it accuracy is very less \n",
        "so  many times it will not work but the it will work with paid ocr like GOOGLE OCR which  has high accuracy\n",
        "\n",
        "\n",
        "time took to run 100 urls\n",
        "\n",
        "Time to run in every 100 links \n",
        "0-100      0:01:48.133866 \n",
        "100-200    0:01:53.135760\n",
        "200-300    0:01:43.234122\n",
        "300-400    0:01:02.830543\n",
        "400-500    0:01:11.436421\n",
        "500-600    0:01:47.373700\n",
        "600-700    0:01:35.706324\n",
        "700-800    0:00:52.607720\n",
        "800-900    0:00:57.310998\n",
        "900 -1000  0:00:57.310998\n",
        "\n",
        "\n"
      ]
    }
  ]
}